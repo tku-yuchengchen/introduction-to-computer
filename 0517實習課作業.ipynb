{
  "nbformat": 4,
  "nbformat_minor": 0,
  "metadata": {
    "colab": {
      "name": "0517實習課作業.ipynb",
      "provenance": [],
      "authorship_tag": "ABX9TyMrxPqIHkJuOhlzPvUU+HtB",
      "include_colab_link": true
    },
    "kernelspec": {
      "name": "python3",
      "display_name": "Python 3"
    },
    "language_info": {
      "name": "python"
    }
  },
  "cells": [
    {
      "cell_type": "markdown",
      "metadata": {
        "id": "view-in-github",
        "colab_type": "text"
      },
      "source": [
        "<a href=\"https://colab.research.google.com/github/tku-yuchengchen/introduction-to-computer/blob/main/0517%E5%AF%A6%E7%BF%92%E8%AA%B2%E4%BD%9C%E6%A5%AD.ipynb\" target=\"_parent\"><img src=\"https://colab.research.google.com/assets/colab-badge.svg\" alt=\"Open In Colab\"/></a>"
      ]
    },
    {
      "cell_type": "code",
      "execution_count": 4,
      "metadata": {
        "colab": {
          "base_uri": "https://localhost:8080/",
          "height": 136
        },
        "id": "ee4CQ0EGxlFU",
        "outputId": "736c0e24-d5f6-415e-ef2f-2db2347274ad"
      },
      "outputs": [
        {
          "output_type": "error",
          "ename": "SyntaxError",
          "evalue": "ignored",
          "traceback": [
            "\u001b[0;36m  File \u001b[0;32m\"<ipython-input-4-b902250e5552>\"\u001b[0;36m, line \u001b[0;32m5\u001b[0m\n\u001b[0;31m    print(\"勇士今天最高得分為curry 分數為\", max(player[1;5]))\u001b[0m\n\u001b[0m                                            ^\u001b[0m\n\u001b[0;31mSyntaxError\u001b[0m\u001b[0;31m:\u001b[0m invalid syntax\n"
          ]
        }
      ],
      "source": [
        "player=['Curry','Green','Wiggins','Looney','Thompson']\n",
        "print(player)\n",
        "fraction = [30,5,22,6,28]\n",
        "print(fraction)\n",
        "print(\"勇士今天最高得分為curry 分數為\", max(player[1;5]))"
      ]
    }
  ]
}