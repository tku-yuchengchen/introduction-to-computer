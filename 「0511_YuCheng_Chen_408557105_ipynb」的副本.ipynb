{
  "nbformat": 4,
  "nbformat_minor": 0,
  "metadata": {
    "colab": {
      "name": "「0511 YuCheng Chen 408557105.ipynb」的副本",
      "provenance": [],
      "authorship_tag": "ABX9TyNP1YPdgKJRRmfy30PnuHQS",
      "include_colab_link": true
    },
    "kernelspec": {
      "name": "python3",
      "display_name": "Python 3"
    },
    "language_info": {
      "name": "python"
    }
  },
  "cells": [
    {
      "cell_type": "markdown",
      "metadata": {
        "id": "view-in-github",
        "colab_type": "text"
      },
      "source": [
        "<a href=\"https://colab.research.google.com/github/tku-yuchengchen/introduction-to-computer/blob/main/%E3%80%8C0511_YuCheng_Chen_408557105_ipynb%E3%80%8D%E7%9A%84%E5%89%AF%E6%9C%AC.ipynb\" target=\"_parent\"><img src=\"https://colab.research.google.com/assets/colab-badge.svg\" alt=\"Open In Colab\"/></a>"
      ]
    },
    {
      "cell_type": "code",
      "source": [
        "money=int(input(\"請輸入購物金額\"))\n",
        "if(money>=10000):\n",
        "  if(money>=100000):\n",
        "    print(\"八折\", money*0.8,end=\"元\\n\")\n",
        "else:\n",
        "  print(\"沒打折\",money,end=\"元\\n\")"
      ],
      "metadata": {
        "colab": {
          "base_uri": "https://localhost:8080/"
        },
        "id": "QJBVXOdLoaU2",
        "outputId": "baefae56-bd48-43d6-eb65-01adde239564"
      },
      "execution_count": null,
      "outputs": [
        {
          "output_type": "stream",
          "name": "stdout",
          "text": [
            "請輸入購物金額100\n",
            "沒打折 100元\n"
          ]
        }
      ]
    },
    {
      "cell_type": "code",
      "source": [
        "體溫 = int(input('請輸入體溫：'))\n",
        "\n",
        "if 體溫 >= 37.5:\n",
        "    print('體溫過高!')\n",
        "elif 體溫 >= 37 and 體溫 <= 37.4:\n",
        "    print('體溫略高!')\n",
        "elif 體溫 >= 34 and 體溫 <= 36.9:\n",
        "    print('體溫正常!')\n",
        "elif 體溫 < 34:\n",
        "    print('體溫異常，請重新測量!')\n",
        "\n"
      ],
      "metadata": {
        "id": "RhhSDUFlp0CX",
        "colab": {
          "base_uri": "https://localhost:8080/"
        },
        "outputId": "3bb7e743-b2ed-4747-c4ef-e644d6d3553f"
      },
      "execution_count": 2,
      "outputs": [
        {
          "output_type": "stream",
          "name": "stdout",
          "text": [
            "請輸入體溫：33\n",
            "體溫異常，請重新測量!\n"
          ]
        }
      ]
    },
    {
      "cell_type": "code",
      "source": [
        "score = int(input('請輸入考試分數 (1-100)：'))\n",
        "\n",
        "if score >= 90 and score <= 100:\n",
        "    print('成績：A')\n",
        "elif score >= 80 and score <= 89:\n",
        "    print('成績：B')\n",
        "elif score >= 70 and score < 79:\n",
        "    print('成績：C')\n",
        "elif score >= 60 and score < 69:\n",
        "    print('成績：D')\n",
        "else:\n",
        "    print('成績：E')"
      ],
      "metadata": {
        "colab": {
          "base_uri": "https://localhost:8080/"
        },
        "id": "M_AsinH-DfP-",
        "outputId": "1e9487e6-f6a3-4d60-b64e-f0e4d9889ef7"
      },
      "execution_count": 10,
      "outputs": [
        {
          "output_type": "stream",
          "name": "stdout",
          "text": [
            "請輸入考試分數 (1-100)：100\n",
            "成績：A\n"
          ]
        }
      ]
    },
    {
      "cell_type": "code",
      "source": [
        ""
      ],
      "metadata": {
        "colab": {
          "base_uri": "https://localhost:8080/",
          "height": 136
        },
        "id": "mLXEcT2BMAC3",
        "outputId": "28e41296-f9a4-4870-94de-ab81ffb1ca0d"
      },
      "execution_count": 1,
      "outputs": [
        {
          "output_type": "error",
          "ename": "SyntaxError",
          "evalue": "ignored",
          "traceback": [
            "\u001b[0;36m  File \u001b[0;32m\"<ipython-input-1-38a92dceafc2>\"\u001b[0;36m, line \u001b[0;32m2\u001b[0m\n\u001b[0;31m    if m==3 m==4 m==5\u001b[0m\n\u001b[0m            ^\u001b[0m\n\u001b[0;31mSyntaxError\u001b[0m\u001b[0;31m:\u001b[0m invalid syntax\n"
          ]
        }
      ]
    },
    {
      "cell_type": "code",
      "source": [
        ""
      ],
      "metadata": {
        "id": "CaDovDbtHdLe"
      },
      "execution_count": null,
      "outputs": []
    }
  ]
}