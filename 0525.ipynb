{
  "nbformat": 4,
  "nbformat_minor": 0,
  "metadata": {
    "colab": {
      "name": "0525.ipynb",
      "provenance": [],
      "authorship_tag": "ABX9TyMgzAWyrm8QCUNKAlwezdxy",
      "include_colab_link": true
    },
    "kernelspec": {
      "name": "python3",
      "display_name": "Python 3"
    },
    "language_info": {
      "name": "python"
    }
  },
  "cells": [
    {
      "cell_type": "markdown",
      "metadata": {
        "id": "view-in-github",
        "colab_type": "text"
      },
      "source": [
        "<a href=\"https://colab.research.google.com/github/tku-yuchengchen/introduction-to-computer/blob/main/0525.ipynb\" target=\"_parent\"><img src=\"https://colab.research.google.com/assets/colab-badge.svg\" alt=\"Open In Colab\"/></a>"
      ]
    },
    {
      "cell_type": "code",
      "execution_count": 1,
      "metadata": {
        "colab": {
          "base_uri": "https://localhost:8080/"
        },
        "id": "HVvvTOIIB_LY",
        "outputId": "6be445fe-2b85-4095-ea30-a2d47c45b5bb"
      },
      "outputs": [
        {
          "output_type": "stream",
          "name": "stdout",
          "text": [
            "test\n"
          ]
        }
      ],
      "source": [
        "print(\"test\")"
      ]
    },
    {
      "cell_type": "code",
      "source": [
        "sum = 0\n",
        "test = int(input(\"請輸入一個正整數: \")) \n",
        "for n in range(1, test+1):\n",
        "  sum = sum+n\n",
        "print()"
      ],
      "metadata": {
        "colab": {
          "base_uri": "https://localhost:8080/"
        },
        "id": "Al0vX_5QCV_b",
        "outputId": "51e5beba-1563-4e81-9248-799f5c409d77"
      },
      "execution_count": 2,
      "outputs": [
        {
          "output_type": "stream",
          "name": "stdout",
          "text": [
            "請輸入一個正整數: 50\n",
            "1到 50 的整數合為 1275\n"
          ]
        }
      ]
    },
    {
      "cell_type": "code",
      "source": [
        "sum = 0\n",
        "test = int(input(\"請輸入一個正整數: \")) \n",
        "for m in range(1, test+1):\n",
        "  sum = sum+m\n",
        "  print(\"1到\",str(m),\"的整數合為\",sum)"
      ],
      "metadata": {
        "colab": {
          "base_uri": "https://localhost:8080/"
        },
        "id": "g0VzOlRaDKpf",
        "outputId": "c94802b6-6eb8-466a-f3e2-7f0b18fb02e7"
      },
      "execution_count": 4,
      "outputs": [
        {
          "output_type": "stream",
          "name": "stdout",
          "text": [
            "請輸入一個正整數: 50\n",
            "1到 1 的整數合為 1\n",
            "1到 2 的整數合為 3\n",
            "1到 3 的整數合為 6\n",
            "1到 4 的整數合為 10\n",
            "1到 5 的整數合為 15\n",
            "1到 6 的整數合為 21\n",
            "1到 7 的整數合為 28\n",
            "1到 8 的整數合為 36\n",
            "1到 9 的整數合為 45\n",
            "1到 10 的整數合為 55\n",
            "1到 11 的整數合為 66\n",
            "1到 12 的整數合為 78\n",
            "1到 13 的整數合為 91\n",
            "1到 14 的整數合為 105\n",
            "1到 15 的整數合為 120\n",
            "1到 16 的整數合為 136\n",
            "1到 17 的整數合為 153\n",
            "1到 18 的整數合為 171\n",
            "1到 19 的整數合為 190\n",
            "1到 20 的整數合為 210\n",
            "1到 21 的整數合為 231\n",
            "1到 22 的整數合為 253\n",
            "1到 23 的整數合為 276\n",
            "1到 24 的整數合為 300\n",
            "1到 25 的整數合為 325\n",
            "1到 26 的整數合為 351\n",
            "1到 27 的整數合為 378\n",
            "1到 28 的整數合為 406\n",
            "1到 29 的整數合為 435\n",
            "1到 30 的整數合為 465\n",
            "1到 31 的整數合為 496\n",
            "1到 32 的整數合為 528\n",
            "1到 33 的整數合為 561\n",
            "1到 34 的整數合為 595\n",
            "1到 35 的整數合為 630\n",
            "1到 36 的整數合為 666\n",
            "1到 37 的整數合為 703\n",
            "1到 38 的整數合為 741\n",
            "1到 39 的整數合為 780\n",
            "1到 40 的整數合為 820\n",
            "1到 41 的整數合為 861\n",
            "1到 42 的整數合為 903\n",
            "1到 43 的整數合為 946\n",
            "1到 44 的整數合為 990\n",
            "1到 45 的整數合為 1035\n",
            "1到 46 的整數合為 1081\n",
            "1到 47 的整數合為 1128\n",
            "1到 48 的整數合為 1176\n",
            "1到 49 的整數合為 1225\n",
            "1到 50 的整數合為 1275\n"
          ]
        }
      ]
    },
    {
      "cell_type": "code",
      "source": [
        "for j in range(1,5):\n",
        "  print(j)\n",
        "  for i in range(1,3):\n",
        "    k = i*j\n",
        "    print(j,\"*\",\"=\",k)"
      ],
      "metadata": {
        "colab": {
          "base_uri": "https://localhost:8080/"
        },
        "id": "RZi-WZuSDwnn",
        "outputId": "a34b3ad7-f352-4fdd-912d-ff67c398b9d5"
      },
      "execution_count": 5,
      "outputs": [
        {
          "output_type": "stream",
          "name": "stdout",
          "text": [
            "1\n",
            "1 * = 1\n",
            "1 * = 2\n",
            "2\n",
            "2 * = 2\n",
            "2 * = 4\n",
            "3\n",
            "3 * = 3\n",
            "3 * = 6\n",
            "4\n",
            "4 * = 4\n",
            "4 * = 8\n"
          ]
        }
      ]
    },
    {
      "cell_type": "code",
      "source": [
        "for i in range(1,5):\n",
        "  if(i==3):\n",
        "    break\n",
        "  print(i,end=\"\")"
      ],
      "metadata": {
        "colab": {
          "base_uri": "https://localhost:8080/"
        },
        "id": "61XIZ_jZE3wY",
        "outputId": "b83cfc95-52ad-4e55-8e9c-05f248fd61d1"
      },
      "execution_count": 8,
      "outputs": [
        {
          "output_type": "stream",
          "name": "stdout",
          "text": [
            "12"
          ]
        }
      ]
    },
    {
      "cell_type": "code",
      "source": [
        "for i in range(1,5):\n",
        "  if(i==4):\n",
        "    continue\n",
        "  print(i,end=\"\")"
      ],
      "metadata": {
        "colab": {
          "base_uri": "https://localhost:8080/"
        },
        "id": "id-GxrRXFF6h",
        "outputId": "4b3b4bed-fe87-4dc4-8229-7be977406a16"
      },
      "execution_count": 7,
      "outputs": [
        {
          "output_type": "stream",
          "name": "stdout",
          "text": [
            "123"
          ]
        }
      ]
    },
    {
      "cell_type": "code",
      "source": [
        "count = 0\n",
        "for string in 'hello!':\n",
        "  count+=1\n",
        "  if string =='o':\n",
        "    break\n",
        "  print(string)\n",
        "print(\"迴圈結束\")\n",
        "print(\"迴圈結束了%d 次\"%count)"
      ],
      "metadata": {
        "colab": {
          "base_uri": "https://localhost:8080/"
        },
        "id": "a0lcjNQgFfU2",
        "outputId": "afd79ea6-a070-4075-9e03-a505579a7451"
      },
      "execution_count": 11,
      "outputs": [
        {
          "output_type": "stream",
          "name": "stdout",
          "text": [
            "h\n",
            "e\n",
            "l\n",
            "l\n",
            "迴圈結束\n",
            "迴圈結束了5 次\n"
          ]
        }
      ]
    },
    {
      "cell_type": "code",
      "source": [
        "count = 0\n",
        "for string in '測試看看!':\n",
        "  count+=1\n",
        "  if string =='看':\n",
        "    break\n",
        "  print(string)\n",
        "print(\"迴圈結束\")\n",
        "print(\"迴圈結束了%d 次\"%count)"
      ],
      "metadata": {
        "colab": {
          "base_uri": "https://localhost:8080/"
        },
        "id": "Kl7E7pFhGt1G",
        "outputId": "5ae738c9-9607-49df-fb3f-66f4d2c61c52"
      },
      "execution_count": 13,
      "outputs": [
        {
          "output_type": "stream",
          "name": "stdout",
          "text": [
            "測\n",
            "試\n",
            "迴圈結束\n",
            "迴圈結束了3 次\n"
          ]
        }
      ]
    },
    {
      "cell_type": "code",
      "source": [
        "for i in range(2,10):\n",
        "   for j in range(1,10):\n",
        "     print('%d*%d=%2d'%(i,j,i*j),end='')\n",
        "     print()"
      ],
      "metadata": {
        "colab": {
          "base_uri": "https://localhost:8080/"
        },
        "id": "rYaaTmcrG_Jz",
        "outputId": "b7e9a856-0f07-4911-87c2-b6daf907050a"
      },
      "execution_count": 30,
      "outputs": [
        {
          "output_type": "stream",
          "name": "stdout",
          "text": [
            "2*1= 2\n",
            "2*2= 4\n",
            "2*3= 6\n",
            "2*4= 8\n",
            "2*5=10\n",
            "2*6=12\n",
            "2*7=14\n",
            "2*8=16\n",
            "2*9=18\n",
            "3*1= 3\n",
            "3*2= 6\n",
            "3*3= 9\n",
            "3*4=12\n",
            "3*5=15\n",
            "3*6=18\n",
            "3*7=21\n",
            "3*8=24\n",
            "3*9=27\n",
            "4*1= 4\n",
            "4*2= 8\n",
            "4*3=12\n",
            "4*4=16\n",
            "4*5=20\n",
            "4*6=24\n",
            "4*7=28\n",
            "4*8=32\n",
            "4*9=36\n",
            "5*1= 5\n",
            "5*2=10\n",
            "5*3=15\n",
            "5*4=20\n",
            "5*5=25\n",
            "5*6=30\n",
            "5*7=35\n",
            "5*8=40\n",
            "5*9=45\n",
            "6*1= 6\n",
            "6*2=12\n",
            "6*3=18\n",
            "6*4=24\n",
            "6*5=30\n",
            "6*6=36\n",
            "6*7=42\n",
            "6*8=48\n",
            "6*9=54\n",
            "7*1= 7\n",
            "7*2=14\n",
            "7*3=21\n",
            "7*4=28\n",
            "7*5=35\n",
            "7*6=42\n",
            "7*7=49\n",
            "7*8=56\n",
            "7*9=63\n",
            "8*1= 8\n",
            "8*2=16\n",
            "8*3=24\n",
            "8*4=32\n",
            "8*5=40\n",
            "8*6=48\n",
            "8*7=56\n",
            "8*8=64\n",
            "8*9=72\n",
            "9*1= 9\n",
            "9*2=18\n",
            "9*3=27\n",
            "9*4=36\n",
            "9*5=45\n",
            "9*6=54\n",
            "9*7=63\n",
            "9*8=72\n",
            "9*9=81\n"
          ]
        }
      ]
    },
    {
      "cell_type": "code",
      "source": [
        "a = int(input(\"請輸入a的值: \")) \n",
        "b = int(input(\"請輸入b的值: \"))\n",
        "if a>b:\n",
        "  c=a\n",
        "else:\n",
        "  c=b\n",
        "n = (a+1) * (b+1)\n",
        "for k in range(c,n):\n",
        " if k % a == 0 and k % b == 0:\n",
        "   break\n",
        "   k +=1\n",
        "print(a,\"和\",b,\"的最小公倍數\",\"=\",k)"
      ],
      "metadata": {
        "colab": {
          "base_uri": "https://localhost:8080/"
        },
        "id": "kqWPmtc0PFfw",
        "outputId": "839536d5-3695-4a8d-c41e-dacac441e33f"
      },
      "execution_count": 38,
      "outputs": [
        {
          "output_type": "stream",
          "name": "stdout",
          "text": [
            "請輸入a的值: 4\n",
            "請輸入b的值: 6\n",
            "4 和 6 的最小公倍數 = 12\n"
          ]
        }
      ]
    },
    {
      "cell_type": "code",
      "source": [
        "a = int(input(\"請輸入a的值: \")) \n",
        "b = int(input(\"請輸入b的值: \"))\n",
        "if a>b:\n",
        "  c=a\n",
        "else:\n",
        "  c=b\n",
        "n = (a+1) * (b+1)\n",
        "for k in range(c,n):\n",
        " if k % a == 0 and k % b == 0:\n",
        "   break\n",
        "   k +=1\n",
        "print(a,\"和\",b,\"的最小公倍數\",\"=\",k)"
      ],
      "metadata": {
        "colab": {
          "base_uri": "https://localhost:8080/"
        },
        "outputId": "a62d76f0-db48-4d83-cadf-3aa655b1f9ab",
        "id": "lUYwQmyeV6T0"
      },
      "execution_count": 39,
      "outputs": [
        {
          "output_type": "stream",
          "name": "stdout",
          "text": [
            "請輸入a的值: 9\n",
            "請輸入b的值: 15\n",
            "9 和 15 的最小公倍數 = 45\n"
          ]
        }
      ]
    }
  ]
}